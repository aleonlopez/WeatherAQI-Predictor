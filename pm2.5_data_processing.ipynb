{
 "cells": [
  {
   "cell_type": "code",
   "execution_count": 1,
   "metadata": {},
   "outputs": [
    {
     "data": {
      "text/html": [
       "<div>\n",
       "<style scoped>\n",
       "    .dataframe tbody tr th:only-of-type {\n",
       "        vertical-align: middle;\n",
       "    }\n",
       "\n",
       "    .dataframe tbody tr th {\n",
       "        vertical-align: top;\n",
       "    }\n",
       "\n",
       "    .dataframe thead th {\n",
       "        text-align: right;\n",
       "    }\n",
       "</style>\n",
       "<table border=\"1\" class=\"dataframe\">\n",
       "  <thead>\n",
       "    <tr style=\"text-align: right;\">\n",
       "      <th></th>\n",
       "      <th>Daily Mean PM2.5 Concentration</th>\n",
       "      <th>Date</th>\n",
       "      <th>DAILY_AQI_VALUE</th>\n",
       "    </tr>\n",
       "  </thead>\n",
       "  <tbody>\n",
       "    <tr>\n",
       "      <th>0</th>\n",
       "      <td>22.1</td>\n",
       "      <td>01/01/2018</td>\n",
       "      <td>72</td>\n",
       "    </tr>\n",
       "    <tr>\n",
       "      <th>1</th>\n",
       "      <td>26.7</td>\n",
       "      <td>01/02/2018</td>\n",
       "      <td>82</td>\n",
       "    </tr>\n",
       "    <tr>\n",
       "      <th>2</th>\n",
       "      <td>39.5</td>\n",
       "      <td>01/03/2018</td>\n",
       "      <td>111</td>\n",
       "    </tr>\n",
       "    <tr>\n",
       "      <th>3</th>\n",
       "      <td>15.6</td>\n",
       "      <td>01/04/2018</td>\n",
       "      <td>58</td>\n",
       "    </tr>\n",
       "    <tr>\n",
       "      <th>4</th>\n",
       "      <td>5.2</td>\n",
       "      <td>01/05/2018</td>\n",
       "      <td>22</td>\n",
       "    </tr>\n",
       "    <tr>\n",
       "      <th>...</th>\n",
       "      <td>...</td>\n",
       "      <td>...</td>\n",
       "      <td>...</td>\n",
       "    </tr>\n",
       "    <tr>\n",
       "      <th>190</th>\n",
       "      <td>12.3</td>\n",
       "      <td>12/19/2001</td>\n",
       "      <td>51</td>\n",
       "    </tr>\n",
       "    <tr>\n",
       "      <th>191</th>\n",
       "      <td>4.2</td>\n",
       "      <td>12/20/2001</td>\n",
       "      <td>18</td>\n",
       "    </tr>\n",
       "    <tr>\n",
       "      <th>192</th>\n",
       "      <td>10.4</td>\n",
       "      <td>12/22/2001</td>\n",
       "      <td>43</td>\n",
       "    </tr>\n",
       "    <tr>\n",
       "      <th>193</th>\n",
       "      <td>9.7</td>\n",
       "      <td>12/23/2001</td>\n",
       "      <td>40</td>\n",
       "    </tr>\n",
       "    <tr>\n",
       "      <th>194</th>\n",
       "      <td>17.2</td>\n",
       "      <td>12/24/2001</td>\n",
       "      <td>62</td>\n",
       "    </tr>\n",
       "  </tbody>\n",
       "</table>\n",
       "<p>7026 rows × 3 columns</p>\n",
       "</div>"
      ],
      "text/plain": [
       "     Daily Mean PM2.5 Concentration        Date  DAILY_AQI_VALUE\n",
       "0                              22.1  01/01/2018               72\n",
       "1                              26.7  01/02/2018               82\n",
       "2                              39.5  01/03/2018              111\n",
       "3                              15.6  01/04/2018               58\n",
       "4                               5.2  01/05/2018               22\n",
       "..                              ...         ...              ...\n",
       "190                            12.3  12/19/2001               51\n",
       "191                             4.2  12/20/2001               18\n",
       "192                            10.4  12/22/2001               43\n",
       "193                             9.7  12/23/2001               40\n",
       "194                            17.2  12/24/2001               62\n",
       "\n",
       "[7026 rows x 3 columns]"
      ]
     },
     "execution_count": 1,
     "metadata": {},
     "output_type": "execute_result"
    }
   ],
   "source": [
    "import pandas as pd\n",
    "import os\n",
    "\n",
    "path = '/Users/isaacmeltsner/Desktop/CS/CS463/WeatherAQI-Predictor/PM2.5_data'\n",
    "frames = []\n",
    "\n",
    "for file in os.listdir(path):\n",
    "    if (file.endswith('.csv')):\n",
    "        df = pd.read_csv(path + '/' + file)\n",
    "        df = df[['Daily Mean PM2.5 Concentration', 'Date', 'DAILY_AQI_VALUE']]\n",
    "        frames.append(df)\n",
    "pm_data = pd.concat(frames)\n",
    "pm_data"
   ]
  },
  {
   "cell_type": "code",
   "execution_count": 2,
   "metadata": {},
   "outputs": [
    {
     "name": "stdout",
     "output_type": "stream",
     "text": [
      "<class 'pandas.core.frame.DataFrame'>\n",
      "Int64Index: 7026 entries, 0 to 194\n",
      "Data columns (total 3 columns):\n",
      " #   Column                          Non-Null Count  Dtype  \n",
      "---  ------                          --------------  -----  \n",
      " 0   Daily Mean PM2.5 Concentration  7026 non-null   float64\n",
      " 1   Date                            7026 non-null   object \n",
      " 2   DAILY_AQI_VALUE                 7026 non-null   int64  \n",
      "dtypes: float64(1), int64(1), object(1)\n",
      "memory usage: 219.6+ KB\n"
     ]
    }
   ],
   "source": [
    "pm_data.info()"
   ]
  },
  {
   "cell_type": "code",
   "execution_count": 4,
   "metadata": {},
   "outputs": [],
   "source": [
    "pm_data.to_csv('pm2.5_data.csv')"
   ]
  },
  {
   "cell_type": "code",
   "execution_count": null,
   "metadata": {},
   "outputs": [],
   "source": []
  }
 ],
 "metadata": {
  "kernelspec": {
   "display_name": "Python 3",
   "language": "python",
   "name": "python3"
  },
  "language_info": {
   "codemirror_mode": {
    "name": "ipython",
    "version": 3
   },
   "file_extension": ".py",
   "mimetype": "text/x-python",
   "name": "python",
   "nbconvert_exporter": "python",
   "pygments_lexer": "ipython3",
   "version": "3.11.6"
  }
 },
 "nbformat": 4,
 "nbformat_minor": 2
}
