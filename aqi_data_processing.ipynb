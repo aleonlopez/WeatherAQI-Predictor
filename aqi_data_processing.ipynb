{
 "cells": [
  {
   "cell_type": "code",
   "execution_count": 13,
   "metadata": {},
   "outputs": [
    {
     "name": "stderr",
     "output_type": "stream",
     "text": [
      "/var/folders/wn/6cczrfvn6xxb8cnm0nc47w4w0000gn/T/ipykernel_69980/2962860308.py:9: DtypeWarning: Columns (2) have mixed types. Specify dtype option on import or set low_memory=False.\n",
      "  df = pd.read_csv(aqi_path + '/' + file)\n",
      "/var/folders/wn/6cczrfvn6xxb8cnm0nc47w4w0000gn/T/ipykernel_69980/2962860308.py:9: DtypeWarning: Columns (2) have mixed types. Specify dtype option on import or set low_memory=False.\n",
      "  df = pd.read_csv(aqi_path + '/' + file)\n",
      "/var/folders/wn/6cczrfvn6xxb8cnm0nc47w4w0000gn/T/ipykernel_69980/2962860308.py:9: DtypeWarning: Columns (2) have mixed types. Specify dtype option on import or set low_memory=False.\n",
      "  df = pd.read_csv(aqi_path + '/' + file)\n",
      "/var/folders/wn/6cczrfvn6xxb8cnm0nc47w4w0000gn/T/ipykernel_69980/2962860308.py:9: DtypeWarning: Columns (2) have mixed types. Specify dtype option on import or set low_memory=False.\n",
      "  df = pd.read_csv(aqi_path + '/' + file)\n",
      "/var/folders/wn/6cczrfvn6xxb8cnm0nc47w4w0000gn/T/ipykernel_69980/2962860308.py:9: DtypeWarning: Columns (2) have mixed types. Specify dtype option on import or set low_memory=False.\n",
      "  df = pd.read_csv(aqi_path + '/' + file)\n",
      "/var/folders/wn/6cczrfvn6xxb8cnm0nc47w4w0000gn/T/ipykernel_69980/2962860308.py:9: DtypeWarning: Columns (2) have mixed types. Specify dtype option on import or set low_memory=False.\n",
      "  df = pd.read_csv(aqi_path + '/' + file)\n",
      "/var/folders/wn/6cczrfvn6xxb8cnm0nc47w4w0000gn/T/ipykernel_69980/2962860308.py:9: DtypeWarning: Columns (2) have mixed types. Specify dtype option on import or set low_memory=False.\n",
      "  df = pd.read_csv(aqi_path + '/' + file)\n",
      "/var/folders/wn/6cczrfvn6xxb8cnm0nc47w4w0000gn/T/ipykernel_69980/2962860308.py:9: DtypeWarning: Columns (2) have mixed types. Specify dtype option on import or set low_memory=False.\n",
      "  df = pd.read_csv(aqi_path + '/' + file)\n",
      "/var/folders/wn/6cczrfvn6xxb8cnm0nc47w4w0000gn/T/ipykernel_69980/2962860308.py:9: DtypeWarning: Columns (2) have mixed types. Specify dtype option on import or set low_memory=False.\n",
      "  df = pd.read_csv(aqi_path + '/' + file)\n",
      "/var/folders/wn/6cczrfvn6xxb8cnm0nc47w4w0000gn/T/ipykernel_69980/2962860308.py:9: DtypeWarning: Columns (2) have mixed types. Specify dtype option on import or set low_memory=False.\n",
      "  df = pd.read_csv(aqi_path + '/' + file)\n",
      "/var/folders/wn/6cczrfvn6xxb8cnm0nc47w4w0000gn/T/ipykernel_69980/2962860308.py:9: DtypeWarning: Columns (2) have mixed types. Specify dtype option on import or set low_memory=False.\n",
      "  df = pd.read_csv(aqi_path + '/' + file)\n",
      "/var/folders/wn/6cczrfvn6xxb8cnm0nc47w4w0000gn/T/ipykernel_69980/2962860308.py:9: DtypeWarning: Columns (2) have mixed types. Specify dtype option on import or set low_memory=False.\n",
      "  df = pd.read_csv(aqi_path + '/' + file)\n"
     ]
    },
    {
     "data": {
      "text/html": [
       "<div>\n",
       "<style scoped>\n",
       "    .dataframe tbody tr th:only-of-type {\n",
       "        vertical-align: middle;\n",
       "    }\n",
       "\n",
       "    .dataframe tbody tr th {\n",
       "        vertical-align: top;\n",
       "    }\n",
       "\n",
       "    .dataframe thead th {\n",
       "        text-align: right;\n",
       "    }\n",
       "</style>\n",
       "<table border=\"1\" class=\"dataframe\">\n",
       "  <thead>\n",
       "    <tr style=\"text-align: right;\">\n",
       "      <th></th>\n",
       "      <th>AQI</th>\n",
       "      <th>Date</th>\n",
       "    </tr>\n",
       "  </thead>\n",
       "  <tbody>\n",
       "    <tr>\n",
       "      <th>26299</th>\n",
       "      <td>87</td>\n",
       "      <td>2007-01-01</td>\n",
       "    </tr>\n",
       "    <tr>\n",
       "      <th>26300</th>\n",
       "      <td>70</td>\n",
       "      <td>2007-01-02</td>\n",
       "    </tr>\n",
       "    <tr>\n",
       "      <th>26301</th>\n",
       "      <td>52</td>\n",
       "      <td>2007-01-03</td>\n",
       "    </tr>\n",
       "    <tr>\n",
       "      <th>26302</th>\n",
       "      <td>27</td>\n",
       "      <td>2007-01-04</td>\n",
       "    </tr>\n",
       "    <tr>\n",
       "      <th>26303</th>\n",
       "      <td>25</td>\n",
       "      <td>2007-01-05</td>\n",
       "    </tr>\n",
       "    <tr>\n",
       "      <th>...</th>\n",
       "      <td>...</td>\n",
       "      <td>...</td>\n",
       "    </tr>\n",
       "    <tr>\n",
       "      <th>26521</th>\n",
       "      <td>36</td>\n",
       "      <td>2021-12-27</td>\n",
       "    </tr>\n",
       "    <tr>\n",
       "      <th>26522</th>\n",
       "      <td>30</td>\n",
       "      <td>2021-12-28</td>\n",
       "    </tr>\n",
       "    <tr>\n",
       "      <th>26523</th>\n",
       "      <td>25</td>\n",
       "      <td>2021-12-29</td>\n",
       "    </tr>\n",
       "    <tr>\n",
       "      <th>26524</th>\n",
       "      <td>24</td>\n",
       "      <td>2021-12-30</td>\n",
       "    </tr>\n",
       "    <tr>\n",
       "      <th>26525</th>\n",
       "      <td>28</td>\n",
       "      <td>2021-12-31</td>\n",
       "    </tr>\n",
       "  </tbody>\n",
       "</table>\n",
       "<p>15339 rows × 2 columns</p>\n",
       "</div>"
      ],
      "text/plain": [
       "       AQI        Date\n",
       "26299   87  2007-01-01\n",
       "26300   70  2007-01-02\n",
       "26301   52  2007-01-03\n",
       "26302   27  2007-01-04\n",
       "26303   25  2007-01-05\n",
       "...    ...         ...\n",
       "26521   36  2021-12-27\n",
       "26522   30  2021-12-28\n",
       "26523   25  2021-12-29\n",
       "26524   24  2021-12-30\n",
       "26525   28  2021-12-31\n",
       "\n",
       "[15339 rows x 2 columns]"
      ]
     },
     "execution_count": 13,
     "metadata": {},
     "output_type": "execute_result"
    }
   ],
   "source": [
    "import pandas as pd\n",
    "import os\n",
    "\n",
    "aqi_path = '/Users/isaacmeltsner/Desktop/CS/CS463/WeatherAQI-Predictor/AQIData'\n",
    "frames = []\n",
    "\n",
    "for file in os.listdir(aqi_path):\n",
    "    if (file.endswith('.csv')):\n",
    "        df = pd.read_csv(aqi_path + '/' + file)\n",
    "        df = df.loc[df['county Name'] == 'San Francisco']\n",
    "        df = df[['AQI', 'Date']]\n",
    "        frames.append(df)\n",
    "aqi_data = pd.concat(frames)\n",
    "aqi_data"
   ]
  },
  {
   "cell_type": "code",
   "execution_count": 15,
   "metadata": {},
   "outputs": [
    {
     "name": "stdout",
     "output_type": "stream",
     "text": [
      "<class 'pandas.core.frame.DataFrame'>\n",
      "Int64Index: 15339 entries, 26299 to 26525\n",
      "Data columns (total 2 columns):\n",
      " #   Column  Non-Null Count  Dtype \n",
      "---  ------  --------------  ----- \n",
      " 0   AQI     15339 non-null  int64 \n",
      " 1   Date    15339 non-null  object\n",
      "dtypes: int64(1), object(1)\n",
      "memory usage: 359.5+ KB\n"
     ]
    }
   ],
   "source": [
    "aqi_data.info()"
   ]
  },
  {
   "cell_type": "code",
   "execution_count": 17,
   "metadata": {},
   "outputs": [],
   "source": [
    "aqi_data.to_csv('aqi_data.csv')"
   ]
  },
  {
   "cell_type": "code",
   "execution_count": null,
   "metadata": {},
   "outputs": [],
   "source": []
  }
 ],
 "metadata": {
  "kernelspec": {
   "display_name": "Python 3",
   "language": "python",
   "name": "python3"
  },
  "language_info": {
   "codemirror_mode": {
    "name": "ipython",
    "version": 3
   },
   "file_extension": ".py",
   "mimetype": "text/x-python",
   "name": "python",
   "nbconvert_exporter": "python",
   "pygments_lexer": "ipython3",
   "version": "3.11.6"
  }
 },
 "nbformat": 4,
 "nbformat_minor": 2
}
