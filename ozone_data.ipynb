{
 "cells": [
  {
   "cell_type": "code",
   "execution_count": 1,
   "metadata": {},
   "outputs": [
    {
     "data": {
      "text/html": [
       "<div>\n",
       "<style scoped>\n",
       "    .dataframe tbody tr th:only-of-type {\n",
       "        vertical-align: middle;\n",
       "    }\n",
       "\n",
       "    .dataframe tbody tr th {\n",
       "        vertical-align: top;\n",
       "    }\n",
       "\n",
       "    .dataframe thead th {\n",
       "        text-align: right;\n",
       "    }\n",
       "</style>\n",
       "<table border=\"1\" class=\"dataframe\">\n",
       "  <thead>\n",
       "    <tr style=\"text-align: right;\">\n",
       "      <th></th>\n",
       "      <th>Daily Max 8-hour Ozone Concentration</th>\n",
       "      <th>Date</th>\n",
       "      <th>DAILY_AQI_VALUE</th>\n",
       "    </tr>\n",
       "  </thead>\n",
       "  <tbody>\n",
       "    <tr>\n",
       "      <th>0</th>\n",
       "      <td>0.010</td>\n",
       "      <td>01/01/2009</td>\n",
       "      <td>9</td>\n",
       "    </tr>\n",
       "    <tr>\n",
       "      <th>1</th>\n",
       "      <td>0.025</td>\n",
       "      <td>01/02/2009</td>\n",
       "      <td>23</td>\n",
       "    </tr>\n",
       "    <tr>\n",
       "      <th>2</th>\n",
       "      <td>0.024</td>\n",
       "      <td>01/03/2009</td>\n",
       "      <td>22</td>\n",
       "    </tr>\n",
       "    <tr>\n",
       "      <th>3</th>\n",
       "      <td>0.020</td>\n",
       "      <td>01/04/2009</td>\n",
       "      <td>19</td>\n",
       "    </tr>\n",
       "    <tr>\n",
       "      <th>4</th>\n",
       "      <td>0.010</td>\n",
       "      <td>01/05/2009</td>\n",
       "      <td>9</td>\n",
       "    </tr>\n",
       "    <tr>\n",
       "      <th>...</th>\n",
       "      <td>...</td>\n",
       "      <td>...</td>\n",
       "      <td>...</td>\n",
       "    </tr>\n",
       "    <tr>\n",
       "      <th>355</th>\n",
       "      <td>0.030</td>\n",
       "      <td>12/26/2004</td>\n",
       "      <td>28</td>\n",
       "    </tr>\n",
       "    <tr>\n",
       "      <th>356</th>\n",
       "      <td>0.024</td>\n",
       "      <td>12/27/2004</td>\n",
       "      <td>22</td>\n",
       "    </tr>\n",
       "    <tr>\n",
       "      <th>357</th>\n",
       "      <td>0.006</td>\n",
       "      <td>12/28/2004</td>\n",
       "      <td>6</td>\n",
       "    </tr>\n",
       "    <tr>\n",
       "      <th>358</th>\n",
       "      <td>0.039</td>\n",
       "      <td>12/29/2004</td>\n",
       "      <td>36</td>\n",
       "    </tr>\n",
       "    <tr>\n",
       "      <th>359</th>\n",
       "      <td>0.033</td>\n",
       "      <td>12/30/2004</td>\n",
       "      <td>31</td>\n",
       "    </tr>\n",
       "  </tbody>\n",
       "</table>\n",
       "<p>8282 rows × 3 columns</p>\n",
       "</div>"
      ],
      "text/plain": [
       "     Daily Max 8-hour Ozone Concentration        Date  DAILY_AQI_VALUE\n",
       "0                                   0.010  01/01/2009                9\n",
       "1                                   0.025  01/02/2009               23\n",
       "2                                   0.024  01/03/2009               22\n",
       "3                                   0.020  01/04/2009               19\n",
       "4                                   0.010  01/05/2009                9\n",
       "..                                    ...         ...              ...\n",
       "355                                 0.030  12/26/2004               28\n",
       "356                                 0.024  12/27/2004               22\n",
       "357                                 0.006  12/28/2004                6\n",
       "358                                 0.039  12/29/2004               36\n",
       "359                                 0.033  12/30/2004               31\n",
       "\n",
       "[8282 rows x 3 columns]"
      ]
     },
     "execution_count": 1,
     "metadata": {},
     "output_type": "execute_result"
    }
   ],
   "source": [
    "import pandas as pd\n",
    "import os\n",
    "\n",
    "path = '/Users/isaacmeltsner/Desktop/CS/CS463/WeatherAQI-Predictor/Ozone_data'\n",
    "frames = []\n",
    "\n",
    "for file in os.listdir(path):\n",
    "    if (file.endswith('.csv')):\n",
    "        df = pd.read_csv(path + '/' + file)\n",
    "        df = df[['Daily Max 8-hour Ozone Concentration', 'Date', 'DAILY_AQI_VALUE']]\n",
    "        frames.append(df)\n",
    "ozone_data = pd.concat(frames)\n",
    "ozone_data"
   ]
  },
  {
   "cell_type": "code",
   "execution_count": 2,
   "metadata": {},
   "outputs": [
    {
     "name": "stdout",
     "output_type": "stream",
     "text": [
      "<class 'pandas.core.frame.DataFrame'>\n",
      "Int64Index: 8282 entries, 0 to 359\n",
      "Data columns (total 3 columns):\n",
      " #   Column                                Non-Null Count  Dtype  \n",
      "---  ------                                --------------  -----  \n",
      " 0   Daily Max 8-hour Ozone Concentration  8282 non-null   float64\n",
      " 1   Date                                  8282 non-null   object \n",
      " 2   DAILY_AQI_VALUE                       8282 non-null   int64  \n",
      "dtypes: float64(1), int64(1), object(1)\n",
      "memory usage: 258.8+ KB\n"
     ]
    }
   ],
   "source": [
    "ozone_data.info()"
   ]
  },
  {
   "cell_type": "code",
   "execution_count": 3,
   "metadata": {},
   "outputs": [],
   "source": [
    "ozone_data.to_csv('ozone_data.csv')"
   ]
  },
  {
   "cell_type": "code",
   "execution_count": null,
   "metadata": {},
   "outputs": [],
   "source": []
  }
 ],
 "metadata": {
  "kernelspec": {
   "display_name": "Python 3",
   "language": "python",
   "name": "python3"
  },
  "language_info": {
   "codemirror_mode": {
    "name": "ipython",
    "version": 3
   },
   "file_extension": ".py",
   "mimetype": "text/x-python",
   "name": "python",
   "nbconvert_exporter": "python",
   "pygments_lexer": "ipython3",
   "version": "3.11.6"
  }
 },
 "nbformat": 4,
 "nbformat_minor": 2
}
