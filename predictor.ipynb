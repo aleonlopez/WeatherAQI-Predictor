{
 "cells": [
  {
   "cell_type": "code",
   "execution_count": 1,
   "metadata": {},
   "outputs": [],
   "source": [
    "import os\n",
    "import pandas as pd\n",
    "import numpy as np\n",
    "import matplotlib.pyplot as plt\n",
    "import seaborn as sns\n",
    "from sklearn.model_selection import train_test_split\n",
    "from sklearn.linear_model import LinearRegression\n",
    "from sklearn.metrics import mean_absolute_error\n",
    "\n",
    "aqi_data = pd.read_csv('aqi_data.csv')\n",
    "ozone_data = pd.read_csv('ozone_data.csv')\n",
    "pm_data = pd.read_csv('pm2.5_data.csv')\n",
    "sf_data = pd.read_csv('sf_weather_data.csv')"
   ]
  },
  {
   "cell_type": "markdown",
   "metadata": {},
   "source": [
    "# EDA"
   ]
  },
  {
   "cell_type": "code",
   "execution_count": 2,
   "metadata": {},
   "outputs": [],
   "source": [
    "aqi_data['Date'] = pd.to_datetime(aqi_data['Date']).dt.strftime('%m/%d/%Y')"
   ]
  },
  {
   "cell_type": "code",
   "execution_count": 3,
   "metadata": {},
   "outputs": [
    {
     "data": {
      "text/html": [
       "<div>\n",
       "<style scoped>\n",
       "    .dataframe tbody tr th:only-of-type {\n",
       "        vertical-align: middle;\n",
       "    }\n",
       "\n",
       "    .dataframe tbody tr th {\n",
       "        vertical-align: top;\n",
       "    }\n",
       "\n",
       "    .dataframe thead th {\n",
       "        text-align: right;\n",
       "    }\n",
       "</style>\n",
       "<table border=\"1\" class=\"dataframe\">\n",
       "  <thead>\n",
       "    <tr style=\"text-align: right;\">\n",
       "      <th></th>\n",
       "      <th>Unnamed: 0</th>\n",
       "      <th>AQI</th>\n",
       "      <th>Date</th>\n",
       "    </tr>\n",
       "  </thead>\n",
       "  <tbody>\n",
       "    <tr>\n",
       "      <th>0</th>\n",
       "      <td>26299</td>\n",
       "      <td>87</td>\n",
       "      <td>01/01/2007</td>\n",
       "    </tr>\n",
       "    <tr>\n",
       "      <th>1</th>\n",
       "      <td>26300</td>\n",
       "      <td>70</td>\n",
       "      <td>01/02/2007</td>\n",
       "    </tr>\n",
       "    <tr>\n",
       "      <th>2</th>\n",
       "      <td>26301</td>\n",
       "      <td>52</td>\n",
       "      <td>01/03/2007</td>\n",
       "    </tr>\n",
       "    <tr>\n",
       "      <th>3</th>\n",
       "      <td>26302</td>\n",
       "      <td>27</td>\n",
       "      <td>01/04/2007</td>\n",
       "    </tr>\n",
       "    <tr>\n",
       "      <th>4</th>\n",
       "      <td>26303</td>\n",
       "      <td>25</td>\n",
       "      <td>01/05/2007</td>\n",
       "    </tr>\n",
       "    <tr>\n",
       "      <th>...</th>\n",
       "      <td>...</td>\n",
       "      <td>...</td>\n",
       "      <td>...</td>\n",
       "    </tr>\n",
       "    <tr>\n",
       "      <th>15334</th>\n",
       "      <td>26521</td>\n",
       "      <td>36</td>\n",
       "      <td>12/27/2021</td>\n",
       "    </tr>\n",
       "    <tr>\n",
       "      <th>15335</th>\n",
       "      <td>26522</td>\n",
       "      <td>30</td>\n",
       "      <td>12/28/2021</td>\n",
       "    </tr>\n",
       "    <tr>\n",
       "      <th>15336</th>\n",
       "      <td>26523</td>\n",
       "      <td>25</td>\n",
       "      <td>12/29/2021</td>\n",
       "    </tr>\n",
       "    <tr>\n",
       "      <th>15337</th>\n",
       "      <td>26524</td>\n",
       "      <td>24</td>\n",
       "      <td>12/30/2021</td>\n",
       "    </tr>\n",
       "    <tr>\n",
       "      <th>15338</th>\n",
       "      <td>26525</td>\n",
       "      <td>28</td>\n",
       "      <td>12/31/2021</td>\n",
       "    </tr>\n",
       "  </tbody>\n",
       "</table>\n",
       "<p>15339 rows × 3 columns</p>\n",
       "</div>"
      ],
      "text/plain": [
       "       Unnamed: 0  AQI        Date\n",
       "0           26299   87  01/01/2007\n",
       "1           26300   70  01/02/2007\n",
       "2           26301   52  01/03/2007\n",
       "3           26302   27  01/04/2007\n",
       "4           26303   25  01/05/2007\n",
       "...           ...  ...         ...\n",
       "15334       26521   36  12/27/2021\n",
       "15335       26522   30  12/28/2021\n",
       "15336       26523   25  12/29/2021\n",
       "15337       26524   24  12/30/2021\n",
       "15338       26525   28  12/31/2021\n",
       "\n",
       "[15339 rows x 3 columns]"
      ]
     },
     "execution_count": 3,
     "metadata": {},
     "output_type": "execute_result"
    }
   ],
   "source": [
    "aqi_data"
   ]
  },
  {
   "cell_type": "code",
   "execution_count": 4,
   "metadata": {},
   "outputs": [
    {
     "data": {
      "text/html": [
       "<div>\n",
       "<style scoped>\n",
       "    .dataframe tbody tr th:only-of-type {\n",
       "        vertical-align: middle;\n",
       "    }\n",
       "\n",
       "    .dataframe tbody tr th {\n",
       "        vertical-align: top;\n",
       "    }\n",
       "\n",
       "    .dataframe thead th {\n",
       "        text-align: right;\n",
       "    }\n",
       "</style>\n",
       "<table border=\"1\" class=\"dataframe\">\n",
       "  <thead>\n",
       "    <tr style=\"text-align: right;\">\n",
       "      <th></th>\n",
       "      <th>Unnamed: 0</th>\n",
       "      <th>Daily Max 8-hour Ozone Concentration</th>\n",
       "      <th>Date</th>\n",
       "      <th>DAILY_AQI_VALUE</th>\n",
       "    </tr>\n",
       "  </thead>\n",
       "  <tbody>\n",
       "    <tr>\n",
       "      <th>0</th>\n",
       "      <td>0</td>\n",
       "      <td>0.010</td>\n",
       "      <td>01/01/2009</td>\n",
       "      <td>9</td>\n",
       "    </tr>\n",
       "    <tr>\n",
       "      <th>1</th>\n",
       "      <td>1</td>\n",
       "      <td>0.025</td>\n",
       "      <td>01/02/2009</td>\n",
       "      <td>23</td>\n",
       "    </tr>\n",
       "    <tr>\n",
       "      <th>2</th>\n",
       "      <td>2</td>\n",
       "      <td>0.024</td>\n",
       "      <td>01/03/2009</td>\n",
       "      <td>22</td>\n",
       "    </tr>\n",
       "    <tr>\n",
       "      <th>3</th>\n",
       "      <td>3</td>\n",
       "      <td>0.020</td>\n",
       "      <td>01/04/2009</td>\n",
       "      <td>19</td>\n",
       "    </tr>\n",
       "    <tr>\n",
       "      <th>4</th>\n",
       "      <td>4</td>\n",
       "      <td>0.010</td>\n",
       "      <td>01/05/2009</td>\n",
       "      <td>9</td>\n",
       "    </tr>\n",
       "    <tr>\n",
       "      <th>...</th>\n",
       "      <td>...</td>\n",
       "      <td>...</td>\n",
       "      <td>...</td>\n",
       "      <td>...</td>\n",
       "    </tr>\n",
       "    <tr>\n",
       "      <th>8277</th>\n",
       "      <td>355</td>\n",
       "      <td>0.030</td>\n",
       "      <td>12/26/2004</td>\n",
       "      <td>28</td>\n",
       "    </tr>\n",
       "    <tr>\n",
       "      <th>8278</th>\n",
       "      <td>356</td>\n",
       "      <td>0.024</td>\n",
       "      <td>12/27/2004</td>\n",
       "      <td>22</td>\n",
       "    </tr>\n",
       "    <tr>\n",
       "      <th>8279</th>\n",
       "      <td>357</td>\n",
       "      <td>0.006</td>\n",
       "      <td>12/28/2004</td>\n",
       "      <td>6</td>\n",
       "    </tr>\n",
       "    <tr>\n",
       "      <th>8280</th>\n",
       "      <td>358</td>\n",
       "      <td>0.039</td>\n",
       "      <td>12/29/2004</td>\n",
       "      <td>36</td>\n",
       "    </tr>\n",
       "    <tr>\n",
       "      <th>8281</th>\n",
       "      <td>359</td>\n",
       "      <td>0.033</td>\n",
       "      <td>12/30/2004</td>\n",
       "      <td>31</td>\n",
       "    </tr>\n",
       "  </tbody>\n",
       "</table>\n",
       "<p>8282 rows × 4 columns</p>\n",
       "</div>"
      ],
      "text/plain": [
       "      Unnamed: 0  Daily Max 8-hour Ozone Concentration        Date  \\\n",
       "0              0                                 0.010  01/01/2009   \n",
       "1              1                                 0.025  01/02/2009   \n",
       "2              2                                 0.024  01/03/2009   \n",
       "3              3                                 0.020  01/04/2009   \n",
       "4              4                                 0.010  01/05/2009   \n",
       "...          ...                                   ...         ...   \n",
       "8277         355                                 0.030  12/26/2004   \n",
       "8278         356                                 0.024  12/27/2004   \n",
       "8279         357                                 0.006  12/28/2004   \n",
       "8280         358                                 0.039  12/29/2004   \n",
       "8281         359                                 0.033  12/30/2004   \n",
       "\n",
       "      DAILY_AQI_VALUE  \n",
       "0                   9  \n",
       "1                  23  \n",
       "2                  22  \n",
       "3                  19  \n",
       "4                   9  \n",
       "...               ...  \n",
       "8277               28  \n",
       "8278               22  \n",
       "8279                6  \n",
       "8280               36  \n",
       "8281               31  \n",
       "\n",
       "[8282 rows x 4 columns]"
      ]
     },
     "execution_count": 4,
     "metadata": {},
     "output_type": "execute_result"
    }
   ],
   "source": [
    "ozone_data"
   ]
  },
  {
   "cell_type": "code",
   "execution_count": 5,
   "metadata": {},
   "outputs": [
    {
     "data": {
      "text/html": [
       "<div>\n",
       "<style scoped>\n",
       "    .dataframe tbody tr th:only-of-type {\n",
       "        vertical-align: middle;\n",
       "    }\n",
       "\n",
       "    .dataframe tbody tr th {\n",
       "        vertical-align: top;\n",
       "    }\n",
       "\n",
       "    .dataframe thead th {\n",
       "        text-align: right;\n",
       "    }\n",
       "</style>\n",
       "<table border=\"1\" class=\"dataframe\">\n",
       "  <thead>\n",
       "    <tr style=\"text-align: right;\">\n",
       "      <th></th>\n",
       "      <th>Unnamed: 0</th>\n",
       "      <th>Daily Mean PM2.5 Concentration</th>\n",
       "      <th>Date</th>\n",
       "      <th>DAILY_AQI_VALUE</th>\n",
       "    </tr>\n",
       "  </thead>\n",
       "  <tbody>\n",
       "    <tr>\n",
       "      <th>0</th>\n",
       "      <td>0</td>\n",
       "      <td>22.1</td>\n",
       "      <td>01/01/2018</td>\n",
       "      <td>72</td>\n",
       "    </tr>\n",
       "    <tr>\n",
       "      <th>1</th>\n",
       "      <td>1</td>\n",
       "      <td>26.7</td>\n",
       "      <td>01/02/2018</td>\n",
       "      <td>82</td>\n",
       "    </tr>\n",
       "    <tr>\n",
       "      <th>2</th>\n",
       "      <td>2</td>\n",
       "      <td>39.5</td>\n",
       "      <td>01/03/2018</td>\n",
       "      <td>111</td>\n",
       "    </tr>\n",
       "    <tr>\n",
       "      <th>3</th>\n",
       "      <td>3</td>\n",
       "      <td>15.6</td>\n",
       "      <td>01/04/2018</td>\n",
       "      <td>58</td>\n",
       "    </tr>\n",
       "    <tr>\n",
       "      <th>4</th>\n",
       "      <td>4</td>\n",
       "      <td>5.2</td>\n",
       "      <td>01/05/2018</td>\n",
       "      <td>22</td>\n",
       "    </tr>\n",
       "    <tr>\n",
       "      <th>...</th>\n",
       "      <td>...</td>\n",
       "      <td>...</td>\n",
       "      <td>...</td>\n",
       "      <td>...</td>\n",
       "    </tr>\n",
       "    <tr>\n",
       "      <th>7021</th>\n",
       "      <td>190</td>\n",
       "      <td>12.3</td>\n",
       "      <td>12/19/2001</td>\n",
       "      <td>51</td>\n",
       "    </tr>\n",
       "    <tr>\n",
       "      <th>7022</th>\n",
       "      <td>191</td>\n",
       "      <td>4.2</td>\n",
       "      <td>12/20/2001</td>\n",
       "      <td>18</td>\n",
       "    </tr>\n",
       "    <tr>\n",
       "      <th>7023</th>\n",
       "      <td>192</td>\n",
       "      <td>10.4</td>\n",
       "      <td>12/22/2001</td>\n",
       "      <td>43</td>\n",
       "    </tr>\n",
       "    <tr>\n",
       "      <th>7024</th>\n",
       "      <td>193</td>\n",
       "      <td>9.7</td>\n",
       "      <td>12/23/2001</td>\n",
       "      <td>40</td>\n",
       "    </tr>\n",
       "    <tr>\n",
       "      <th>7025</th>\n",
       "      <td>194</td>\n",
       "      <td>17.2</td>\n",
       "      <td>12/24/2001</td>\n",
       "      <td>62</td>\n",
       "    </tr>\n",
       "  </tbody>\n",
       "</table>\n",
       "<p>7026 rows × 4 columns</p>\n",
       "</div>"
      ],
      "text/plain": [
       "      Unnamed: 0  Daily Mean PM2.5 Concentration        Date  DAILY_AQI_VALUE\n",
       "0              0                            22.1  01/01/2018               72\n",
       "1              1                            26.7  01/02/2018               82\n",
       "2              2                            39.5  01/03/2018              111\n",
       "3              3                            15.6  01/04/2018               58\n",
       "4              4                             5.2  01/05/2018               22\n",
       "...          ...                             ...         ...              ...\n",
       "7021         190                            12.3  12/19/2001               51\n",
       "7022         191                             4.2  12/20/2001               18\n",
       "7023         192                            10.4  12/22/2001               43\n",
       "7024         193                             9.7  12/23/2001               40\n",
       "7025         194                            17.2  12/24/2001               62\n",
       "\n",
       "[7026 rows x 4 columns]"
      ]
     },
     "execution_count": 5,
     "metadata": {},
     "output_type": "execute_result"
    }
   ],
   "source": [
    "pm_data"
   ]
  },
  {
   "cell_type": "code",
   "execution_count": 6,
   "metadata": {},
   "outputs": [
    {
     "data": {
      "text/html": [
       "<div>\n",
       "<style scoped>\n",
       "    .dataframe tbody tr th:only-of-type {\n",
       "        vertical-align: middle;\n",
       "    }\n",
       "\n",
       "    .dataframe tbody tr th {\n",
       "        vertical-align: top;\n",
       "    }\n",
       "\n",
       "    .dataframe thead th {\n",
       "        text-align: right;\n",
       "    }\n",
       "</style>\n",
       "<table border=\"1\" class=\"dataframe\">\n",
       "  <thead>\n",
       "    <tr style=\"text-align: right;\">\n",
       "      <th></th>\n",
       "      <th>Unnamed: 0</th>\n",
       "      <th>Date</th>\n",
       "      <th>Max.TemperatureF</th>\n",
       "      <th>Mean.TemperatureF</th>\n",
       "      <th>Min.TemperatureF</th>\n",
       "      <th>Max.Dew.PointF</th>\n",
       "      <th>MeanDew.PointF</th>\n",
       "      <th>Min.DewpointF</th>\n",
       "      <th>Max.Humidity</th>\n",
       "      <th>Mean.Humidity</th>\n",
       "      <th>...</th>\n",
       "      <th>Min.VisibilityMiles</th>\n",
       "      <th>Max.Wind.SpeedMPH</th>\n",
       "      <th>Mean.Wind.SpeedMPH</th>\n",
       "      <th>Max.Gust.SpeedMPH</th>\n",
       "      <th>PrecipitationIn</th>\n",
       "      <th>CloudCover</th>\n",
       "      <th>Events</th>\n",
       "      <th>WindDirDegrees.br...</th>\n",
       "      <th>city</th>\n",
       "      <th>season</th>\n",
       "    </tr>\n",
       "  </thead>\n",
       "  <tbody>\n",
       "    <tr>\n",
       "      <th>0</th>\n",
       "      <td>0</td>\n",
       "      <td>01/01/1948</td>\n",
       "      <td>55.0</td>\n",
       "      <td>50.0</td>\n",
       "      <td>46.0</td>\n",
       "      <td>53.0</td>\n",
       "      <td>48.0</td>\n",
       "      <td>42.0</td>\n",
       "      <td>96.0</td>\n",
       "      <td>87.0</td>\n",
       "      <td>...</td>\n",
       "      <td>2.0</td>\n",
       "      <td>16.0</td>\n",
       "      <td>7.0</td>\n",
       "      <td>NaN</td>\n",
       "      <td>0.00</td>\n",
       "      <td>0.0</td>\n",
       "      <td>Fog-Rain</td>\n",
       "      <td>124&lt;br /&gt;</td>\n",
       "      <td>San Francisco (CA)</td>\n",
       "      <td>Winter</td>\n",
       "    </tr>\n",
       "    <tr>\n",
       "      <th>1</th>\n",
       "      <td>1</td>\n",
       "      <td>01/02/1948</td>\n",
       "      <td>57.0</td>\n",
       "      <td>55.0</td>\n",
       "      <td>53.0</td>\n",
       "      <td>56.0</td>\n",
       "      <td>53.0</td>\n",
       "      <td>51.0</td>\n",
       "      <td>93.0</td>\n",
       "      <td>91.0</td>\n",
       "      <td>...</td>\n",
       "      <td>3.0</td>\n",
       "      <td>22.0</td>\n",
       "      <td>11.0</td>\n",
       "      <td>NaN</td>\n",
       "      <td>0.00</td>\n",
       "      <td>0.0</td>\n",
       "      <td>Rain</td>\n",
       "      <td>202&lt;br /&gt;</td>\n",
       "      <td>San Francisco (CA)</td>\n",
       "      <td>Winter</td>\n",
       "    </tr>\n",
       "    <tr>\n",
       "      <th>2</th>\n",
       "      <td>2</td>\n",
       "      <td>01/03/1948</td>\n",
       "      <td>57.0</td>\n",
       "      <td>54.0</td>\n",
       "      <td>50.0</td>\n",
       "      <td>54.0</td>\n",
       "      <td>51.0</td>\n",
       "      <td>50.0</td>\n",
       "      <td>100.0</td>\n",
       "      <td>94.0</td>\n",
       "      <td>...</td>\n",
       "      <td>0.0</td>\n",
       "      <td>8.0</td>\n",
       "      <td>2.0</td>\n",
       "      <td>NaN</td>\n",
       "      <td>0.00</td>\n",
       "      <td>0.0</td>\n",
       "      <td>Fog</td>\n",
       "      <td>79&lt;br /&gt;</td>\n",
       "      <td>San Francisco (CA)</td>\n",
       "      <td>Winter</td>\n",
       "    </tr>\n",
       "    <tr>\n",
       "      <th>3</th>\n",
       "      <td>3</td>\n",
       "      <td>01/04/1948</td>\n",
       "      <td>59.0</td>\n",
       "      <td>57.0</td>\n",
       "      <td>55.0</td>\n",
       "      <td>55.0</td>\n",
       "      <td>54.0</td>\n",
       "      <td>54.0</td>\n",
       "      <td>97.0</td>\n",
       "      <td>91.0</td>\n",
       "      <td>...</td>\n",
       "      <td>3.0</td>\n",
       "      <td>18.0</td>\n",
       "      <td>7.0</td>\n",
       "      <td>NaN</td>\n",
       "      <td>0.00</td>\n",
       "      <td>0.0</td>\n",
       "      <td>Fog-Rain</td>\n",
       "      <td>191&lt;br /&gt;</td>\n",
       "      <td>San Francisco (CA)</td>\n",
       "      <td>Winter</td>\n",
       "    </tr>\n",
       "    <tr>\n",
       "      <th>4</th>\n",
       "      <td>4</td>\n",
       "      <td>01/05/1948</td>\n",
       "      <td>59.0</td>\n",
       "      <td>55.0</td>\n",
       "      <td>51.0</td>\n",
       "      <td>55.0</td>\n",
       "      <td>52.0</td>\n",
       "      <td>50.0</td>\n",
       "      <td>100.0</td>\n",
       "      <td>91.0</td>\n",
       "      <td>...</td>\n",
       "      <td>0.0</td>\n",
       "      <td>12.0</td>\n",
       "      <td>4.0</td>\n",
       "      <td>NaN</td>\n",
       "      <td>0.00</td>\n",
       "      <td>0.0</td>\n",
       "      <td>Fog</td>\n",
       "      <td>289&lt;br /&gt;</td>\n",
       "      <td>San Francisco (CA)</td>\n",
       "      <td>Winter</td>\n",
       "    </tr>\n",
       "    <tr>\n",
       "      <th>...</th>\n",
       "      <td>...</td>\n",
       "      <td>...</td>\n",
       "      <td>...</td>\n",
       "      <td>...</td>\n",
       "      <td>...</td>\n",
       "      <td>...</td>\n",
       "      <td>...</td>\n",
       "      <td>...</td>\n",
       "      <td>...</td>\n",
       "      <td>...</td>\n",
       "      <td>...</td>\n",
       "      <td>...</td>\n",
       "      <td>...</td>\n",
       "      <td>...</td>\n",
       "      <td>...</td>\n",
       "      <td>...</td>\n",
       "      <td>...</td>\n",
       "      <td>...</td>\n",
       "      <td>...</td>\n",
       "      <td>...</td>\n",
       "      <td>...</td>\n",
       "    </tr>\n",
       "    <tr>\n",
       "      <th>24738</th>\n",
       "      <td>24738</td>\n",
       "      <td>12/27/2015</td>\n",
       "      <td>48.0</td>\n",
       "      <td>41.0</td>\n",
       "      <td>34.0</td>\n",
       "      <td>37.0</td>\n",
       "      <td>34.0</td>\n",
       "      <td>29.0</td>\n",
       "      <td>82.0</td>\n",
       "      <td>71.0</td>\n",
       "      <td>...</td>\n",
       "      <td>9.0</td>\n",
       "      <td>15.0</td>\n",
       "      <td>4.0</td>\n",
       "      <td>17.0</td>\n",
       "      <td>0.01</td>\n",
       "      <td>5.0</td>\n",
       "      <td>Rain</td>\n",
       "      <td>156&lt;br /&gt;</td>\n",
       "      <td>San Francisco (CA)</td>\n",
       "      <td>Winter</td>\n",
       "    </tr>\n",
       "    <tr>\n",
       "      <th>24739</th>\n",
       "      <td>24739</td>\n",
       "      <td>12/28/2015</td>\n",
       "      <td>48.0</td>\n",
       "      <td>45.0</td>\n",
       "      <td>41.0</td>\n",
       "      <td>40.0</td>\n",
       "      <td>37.0</td>\n",
       "      <td>34.0</td>\n",
       "      <td>89.0</td>\n",
       "      <td>77.0</td>\n",
       "      <td>...</td>\n",
       "      <td>4.0</td>\n",
       "      <td>13.0</td>\n",
       "      <td>5.0</td>\n",
       "      <td>15.0</td>\n",
       "      <td>0.11</td>\n",
       "      <td>4.0</td>\n",
       "      <td>Rain</td>\n",
       "      <td>52&lt;br /&gt;</td>\n",
       "      <td>San Francisco (CA)</td>\n",
       "      <td>Winter</td>\n",
       "    </tr>\n",
       "    <tr>\n",
       "      <th>24740</th>\n",
       "      <td>24740</td>\n",
       "      <td>12/29/2015</td>\n",
       "      <td>54.0</td>\n",
       "      <td>45.0</td>\n",
       "      <td>36.0</td>\n",
       "      <td>41.0</td>\n",
       "      <td>36.0</td>\n",
       "      <td>28.0</td>\n",
       "      <td>92.0</td>\n",
       "      <td>67.0</td>\n",
       "      <td>...</td>\n",
       "      <td>10.0</td>\n",
       "      <td>12.0</td>\n",
       "      <td>3.0</td>\n",
       "      <td>13.0</td>\n",
       "      <td>0.00</td>\n",
       "      <td>1.0</td>\n",
       "      <td>NaN</td>\n",
       "      <td>250&lt;br /&gt;</td>\n",
       "      <td>San Francisco (CA)</td>\n",
       "      <td>Winter</td>\n",
       "    </tr>\n",
       "    <tr>\n",
       "      <th>24741</th>\n",
       "      <td>24741</td>\n",
       "      <td>12/30/2015</td>\n",
       "      <td>49.0</td>\n",
       "      <td>45.0</td>\n",
       "      <td>40.0</td>\n",
       "      <td>44.0</td>\n",
       "      <td>40.0</td>\n",
       "      <td>37.0</td>\n",
       "      <td>93.0</td>\n",
       "      <td>80.0</td>\n",
       "      <td>...</td>\n",
       "      <td>2.0</td>\n",
       "      <td>16.0</td>\n",
       "      <td>7.0</td>\n",
       "      <td>18.0</td>\n",
       "      <td>0.01</td>\n",
       "      <td>6.0</td>\n",
       "      <td>Rain</td>\n",
       "      <td>19&lt;br /&gt;</td>\n",
       "      <td>San Francisco (CA)</td>\n",
       "      <td>Winter</td>\n",
       "    </tr>\n",
       "    <tr>\n",
       "      <th>24742</th>\n",
       "      <td>24742</td>\n",
       "      <td>12/31/2015</td>\n",
       "      <td>51.0</td>\n",
       "      <td>45.0</td>\n",
       "      <td>39.0</td>\n",
       "      <td>37.0</td>\n",
       "      <td>34.0</td>\n",
       "      <td>28.0</td>\n",
       "      <td>85.0</td>\n",
       "      <td>66.0</td>\n",
       "      <td>...</td>\n",
       "      <td>10.0</td>\n",
       "      <td>17.0</td>\n",
       "      <td>8.0</td>\n",
       "      <td>20.0</td>\n",
       "      <td>0.00</td>\n",
       "      <td>1.0</td>\n",
       "      <td>NaN</td>\n",
       "      <td>78&lt;br /&gt;</td>\n",
       "      <td>San Francisco (CA)</td>\n",
       "      <td>Winter</td>\n",
       "    </tr>\n",
       "  </tbody>\n",
       "</table>\n",
       "<p>24743 rows × 26 columns</p>\n",
       "</div>"
      ],
      "text/plain": [
       "       Unnamed: 0        Date  Max.TemperatureF  Mean.TemperatureF  \\\n",
       "0               0  01/01/1948              55.0               50.0   \n",
       "1               1  01/02/1948              57.0               55.0   \n",
       "2               2  01/03/1948              57.0               54.0   \n",
       "3               3  01/04/1948              59.0               57.0   \n",
       "4               4  01/05/1948              59.0               55.0   \n",
       "...           ...         ...               ...                ...   \n",
       "24738       24738  12/27/2015              48.0               41.0   \n",
       "24739       24739  12/28/2015              48.0               45.0   \n",
       "24740       24740  12/29/2015              54.0               45.0   \n",
       "24741       24741  12/30/2015              49.0               45.0   \n",
       "24742       24742  12/31/2015              51.0               45.0   \n",
       "\n",
       "       Min.TemperatureF  Max.Dew.PointF  MeanDew.PointF  Min.DewpointF  \\\n",
       "0                  46.0            53.0            48.0           42.0   \n",
       "1                  53.0            56.0            53.0           51.0   \n",
       "2                  50.0            54.0            51.0           50.0   \n",
       "3                  55.0            55.0            54.0           54.0   \n",
       "4                  51.0            55.0            52.0           50.0   \n",
       "...                 ...             ...             ...            ...   \n",
       "24738              34.0            37.0            34.0           29.0   \n",
       "24739              41.0            40.0            37.0           34.0   \n",
       "24740              36.0            41.0            36.0           28.0   \n",
       "24741              40.0            44.0            40.0           37.0   \n",
       "24742              39.0            37.0            34.0           28.0   \n",
       "\n",
       "       Max.Humidity  Mean.Humidity  ...  Min.VisibilityMiles  \\\n",
       "0              96.0           87.0  ...                  2.0   \n",
       "1              93.0           91.0  ...                  3.0   \n",
       "2             100.0           94.0  ...                  0.0   \n",
       "3              97.0           91.0  ...                  3.0   \n",
       "4             100.0           91.0  ...                  0.0   \n",
       "...             ...            ...  ...                  ...   \n",
       "24738          82.0           71.0  ...                  9.0   \n",
       "24739          89.0           77.0  ...                  4.0   \n",
       "24740          92.0           67.0  ...                 10.0   \n",
       "24741          93.0           80.0  ...                  2.0   \n",
       "24742          85.0           66.0  ...                 10.0   \n",
       "\n",
       "       Max.Wind.SpeedMPH  Mean.Wind.SpeedMPH  Max.Gust.SpeedMPH  \\\n",
       "0                   16.0                 7.0                NaN   \n",
       "1                   22.0                11.0                NaN   \n",
       "2                    8.0                 2.0                NaN   \n",
       "3                   18.0                 7.0                NaN   \n",
       "4                   12.0                 4.0                NaN   \n",
       "...                  ...                 ...                ...   \n",
       "24738               15.0                 4.0               17.0   \n",
       "24739               13.0                 5.0               15.0   \n",
       "24740               12.0                 3.0               13.0   \n",
       "24741               16.0                 7.0               18.0   \n",
       "24742               17.0                 8.0               20.0   \n",
       "\n",
       "       PrecipitationIn  CloudCover    Events  WindDirDegrees.br...  \\\n",
       "0                 0.00         0.0  Fog-Rain             124<br />   \n",
       "1                 0.00         0.0      Rain             202<br />   \n",
       "2                 0.00         0.0       Fog              79<br />   \n",
       "3                 0.00         0.0  Fog-Rain             191<br />   \n",
       "4                 0.00         0.0       Fog             289<br />   \n",
       "...                ...         ...       ...                   ...   \n",
       "24738             0.01         5.0      Rain             156<br />   \n",
       "24739             0.11         4.0      Rain              52<br />   \n",
       "24740             0.00         1.0       NaN             250<br />   \n",
       "24741             0.01         6.0      Rain              19<br />   \n",
       "24742             0.00         1.0       NaN              78<br />   \n",
       "\n",
       "                     city  season  \n",
       "0      San Francisco (CA)  Winter  \n",
       "1      San Francisco (CA)  Winter  \n",
       "2      San Francisco (CA)  Winter  \n",
       "3      San Francisco (CA)  Winter  \n",
       "4      San Francisco (CA)  Winter  \n",
       "...                   ...     ...  \n",
       "24738  San Francisco (CA)  Winter  \n",
       "24739  San Francisco (CA)  Winter  \n",
       "24740  San Francisco (CA)  Winter  \n",
       "24741  San Francisco (CA)  Winter  \n",
       "24742  San Francisco (CA)  Winter  \n",
       "\n",
       "[24743 rows x 26 columns]"
      ]
     },
     "execution_count": 6,
     "metadata": {},
     "output_type": "execute_result"
    }
   ],
   "source": [
    "sf_data"
   ]
  },
  {
   "cell_type": "code",
   "execution_count": 7,
   "metadata": {},
   "outputs": [],
   "source": [
    "aqi_data['Year'] = aqi_data['Date'].str.slice(6, 10).astype(int)\n",
    "ozone_data['Year'] = ozone_data['Date'].str.slice(6, 10).astype(int)\n",
    "pm_data['Year'] = pm_data['Date'].str.slice(6, 10).astype(int)\n",
    "sf_data['Year'] = sf_data['Date'].str.slice(6, 10).astype(int)"
   ]
  },
  {
   "cell_type": "code",
   "execution_count": 8,
   "metadata": {},
   "outputs": [
    {
     "data": {
      "text/plain": [
       "array([1980, 1981, 1982, 1983, 1984, 1985, 1986, 1987, 1988, 1989, 1990,\n",
       "       1991, 1992, 1993, 1994, 1995, 1996, 1997, 1998, 1999, 2000, 2001,\n",
       "       2002, 2003, 2004, 2005, 2006, 2007, 2008, 2009, 2010, 2011, 2012,\n",
       "       2013, 2014, 2015, 2016, 2017, 2018, 2019, 2020, 2021])"
      ]
     },
     "execution_count": 8,
     "metadata": {},
     "output_type": "execute_result"
    }
   ],
   "source": [
    "pd.unique(sorted(aqi_data['Year']))"
   ]
  },
  {
   "cell_type": "code",
   "execution_count": 9,
   "metadata": {},
   "outputs": [
    {
     "data": {
      "text/plain": [
       "array([1999, 2000, 2001, 2002, 2003, 2004, 2005, 2006, 2007, 2008, 2009,\n",
       "       2010, 2011, 2012, 2013, 2014, 2015, 2016, 2017, 2018, 2019, 2020,\n",
       "       2021])"
      ]
     },
     "execution_count": 9,
     "metadata": {},
     "output_type": "execute_result"
    }
   ],
   "source": [
    "pd.unique(sorted(ozone_data['Year']))"
   ]
  },
  {
   "cell_type": "code",
   "execution_count": 10,
   "metadata": {},
   "outputs": [
    {
     "data": {
      "text/plain": [
       "array([1999, 2000, 2001, 2002, 2003, 2004, 2005, 2006, 2007, 2008, 2009,\n",
       "       2010, 2011, 2012, 2013, 2014, 2015, 2016, 2017, 2018, 2019, 2020,\n",
       "       2021])"
      ]
     },
     "execution_count": 10,
     "metadata": {},
     "output_type": "execute_result"
    }
   ],
   "source": [
    "pd.unique(sorted(pm_data['Year']))"
   ]
  },
  {
   "cell_type": "code",
   "execution_count": 11,
   "metadata": {},
   "outputs": [
    {
     "data": {
      "text/plain": [
       "array([1948, 1949, 1950, 1951, 1952, 1953, 1954, 1955, 1956, 1957, 1958,\n",
       "       1959, 1960, 1961, 1962, 1963, 1964, 1965, 1966, 1967, 1968, 1969,\n",
       "       1970, 1971, 1972, 1973, 1974, 1975, 1976, 1977, 1978, 1979, 1980,\n",
       "       1981, 1982, 1983, 1984, 1985, 1986, 1987, 1988, 1989, 1990, 1991,\n",
       "       1992, 1993, 1994, 1995, 1996, 1997, 1998, 1999, 2000, 2001, 2002,\n",
       "       2003, 2004, 2005, 2006, 2007, 2008, 2009, 2010, 2011, 2012, 2013,\n",
       "       2014, 2015])"
      ]
     },
     "execution_count": 11,
     "metadata": {},
     "output_type": "execute_result"
    }
   ],
   "source": [
    "pd.unique(sorted(sf_data['Year']))"
   ]
  },
  {
   "cell_type": "raw",
   "metadata": {},
   "source": [
    "Years Range\n",
    "AQI data years = 1980 - 2021\n",
    "Ozone data years = 1999 - 2021\n",
    "PM data years = 1999 - 2021\n",
    "SF data years = 1948 - 2015\n",
    "\n",
    "Want data for 1999 - 2021"
   ]
  },
  {
   "cell_type": "code",
   "execution_count": 12,
   "metadata": {},
   "outputs": [],
   "source": [
    "# Filter\n",
    "aqi_data = aqi_data[(aqi_data['Year'] >= 1999) & (aqi_data['Year'] <= 2021)]\n",
    "ozone_data = ozone_data[(ozone_data['Year'] >= 1999) & (ozone_data['Year'] <= 2021)]\n",
    "pm_data = pm_data[(pm_data['Year'] >= 1999) & (pm_data['Year'] <= 2021)]\n",
    "sf_data = sf_data[(sf_data['Year'] >= 1999) & (sf_data['Year'] <= 2015)]\n",
    "\n",
    "# Merge with suffixes\n",
    "merged_df = pd.merge(aqi_data, ozone_data, on='Date', how='outer', suffixes=('_aqi', '_ozone'))\n",
    "merged_df = pd.merge(merged_df, pm_data, on='Date', how='outer', suffixes=('_merged', '_pm'))\n",
    "merged_df = pd.merge(merged_df, sf_data, on='Date', how='outer', suffixes=('_merged', '_sf'))\n",
    "\n",
    "# Handle missing values or duplicates\n",
    "merged_df = merged_df.drop_duplicates(subset='Date')\n",
    "merged_df = merged_df.fillna(method='ffill')  # Forward fill missing values"
   ]
  },
  {
   "cell_type": "code",
   "execution_count": 13,
   "metadata": {},
   "outputs": [],
   "source": [
    "# Dont want duplicate years, we will use the Date column, also drop city since all the data is in SF\n",
    "merged_df.drop(['Year_sf', 'Year_merged', 'Year_ozone', 'Year_aqi', 'city'], axis=1, inplace=True)"
   ]
  },
  {
   "cell_type": "code",
   "execution_count": 14,
   "metadata": {},
   "outputs": [
    {
     "data": {
      "text/plain": [
       "Date\n",
       "01/01/2007    1\n",
       "05/16/2003    1\n",
       "05/14/2003    1\n",
       "05/13/2003    1\n",
       "05/12/2003    1\n",
       "             ..\n",
       "08/29/2011    1\n",
       "08/28/2011    1\n",
       "08/27/2011    1\n",
       "08/26/2011    1\n",
       "02/26/2012    1\n",
       "Name: count, Length: 8401, dtype: int64"
      ]
     },
     "execution_count": 14,
     "metadata": {},
     "output_type": "execute_result"
    }
   ],
   "source": [
    "merged_df.Date.value_counts()"
   ]
  },
  {
   "cell_type": "code",
   "execution_count": 15,
   "metadata": {},
   "outputs": [
    {
     "name": "stdout",
     "output_type": "stream",
     "text": [
      "Missing dates: DatetimeIndex([], dtype='datetime64[ns]', freq='D')\n"
     ]
    }
   ],
   "source": [
    "# Generated by ChatGPT to check if there are any missing dates between the range 01/01/1999 - 12/31/2021\n",
    "\n",
    "merged_df['Date'] = pd.to_datetime(merged_df['Date'])\n",
    "\n",
    "# Create a date range for the entire period\n",
    "full_date_range = pd.date_range(start='1999-01-01', end='2021-12-31')\n",
    "\n",
    "# Identify missing dates\n",
    "missing_dates = full_date_range[~full_date_range.isin(merged_df['Date'])]\n",
    "\n",
    "# Print the missing dates\n",
    "print(\"Missing dates:\", missing_dates)"
   ]
  },
  {
   "cell_type": "code",
   "execution_count": 16,
   "metadata": {},
   "outputs": [],
   "source": [
    "# Fill the 2 NaN's in Events\n",
    "most_frequent_event = merged_df['Events'].mode().iloc[0]\n",
    "merged_df['Events'] = merged_df['Events'].fillna(most_frequent_event)"
   ]
  },
  {
   "cell_type": "code",
   "execution_count": 17,
   "metadata": {},
   "outputs": [
    {
     "data": {
      "text/plain": [
       "array(['Winter', 'Spring', 'Summer', 'Autumn'], dtype=object)"
      ]
     },
     "execution_count": 17,
     "metadata": {},
     "output_type": "execute_result"
    }
   ],
   "source": [
    "pd.unique(merged_df['season'])"
   ]
  },
  {
   "cell_type": "code",
   "execution_count": 18,
   "metadata": {},
   "outputs": [
    {
     "data": {
      "text/plain": [
       "array(['Rain', 'Fog', 'Rain-Thunderstorm', 'Fog-Rain', 'Thunderstorm',\n",
       "       'Rain-Hail-Thunderstorm'], dtype=object)"
      ]
     },
     "execution_count": 18,
     "metadata": {},
     "output_type": "execute_result"
    }
   ],
   "source": [
    "pd.unique(merged_df['Events'])"
   ]
  },
  {
   "cell_type": "code",
   "execution_count": 19,
   "metadata": {},
   "outputs": [],
   "source": [
    "columns = ['season', 'Events']\n",
    "\n",
    "merged_df = pd.get_dummies(merged_df, columns=columns)"
   ]
  },
  {
   "cell_type": "code",
   "execution_count": 20,
   "metadata": {},
   "outputs": [],
   "source": [
    "merged_df['season_Autumn'] = merged_df['season_Autumn'].astype(float)\n",
    "merged_df['season_Spring'] = merged_df['season_Spring'].astype(float)\n",
    "merged_df['season_Summer'] = merged_df['season_Summer'].astype(float)\n",
    "merged_df['season_Winter'] = merged_df['season_Winter'].astype(float)\n",
    "merged_df['Events_Fog'] = merged_df['Events_Fog'].astype(float)    \n",
    "merged_df['Events_Fog-Rain'] = merged_df['Events_Fog-Rain'].astype(float)        \n",
    "merged_df['Events_Rain'] = merged_df['Events_Rain'].astype(float)   \n",
    "merged_df['Events_Rain-Hail-Thunderstorm'] = merged_df['Events_Rain-Hail-Thunderstorm'].astype(float)      \n",
    "merged_df['Events_Rain-Thunderstorm'] = merged_df['Events_Rain-Thunderstorm'].astype(float)    \n",
    "merged_df['Events_Thunderstorm'] = merged_df['Events_Thunderstorm'].astype(float)"
   ]
  },
  {
   "cell_type": "code",
   "execution_count": 21,
   "metadata": {},
   "outputs": [
    {
     "data": {
      "text/plain": [
       "0       0.00\n",
       "1       0.00\n",
       "2       0.01\n",
       "3       0.12\n",
       "4       0.00\n",
       "        ... \n",
       "8436    0.00\n",
       "8437    0.00\n",
       "8438    0.00\n",
       "8439    0.00\n",
       "8440    0.00\n",
       "Name: PrecipitationIn, Length: 8401, dtype: object"
      ]
     },
     "execution_count": 21,
     "metadata": {},
     "output_type": "execute_result"
    }
   ],
   "source": [
    "merged_df['PrecipitationIn']"
   ]
  },
  {
   "cell_type": "code",
   "execution_count": 22,
   "metadata": {},
   "outputs": [],
   "source": [
    "# ChatGPT\n",
    "merged_df['c'] = merged_df['PrecipitationIn'].apply(lambda x: float(x) if x.replace('.', '', 1).isdigit() else None)"
   ]
  },
  {
   "cell_type": "code",
   "execution_count": 23,
   "metadata": {},
   "outputs": [
    {
     "data": {
      "text/plain": [
       "0       0.00\n",
       "1       0.00\n",
       "2       0.01\n",
       "3       0.12\n",
       "4       0.00\n",
       "        ... \n",
       "8436    0.00\n",
       "8437    0.00\n",
       "8438    0.00\n",
       "8439    0.00\n",
       "8440    0.00\n",
       "Name: PrecipitationIn, Length: 8401, dtype: object"
      ]
     },
     "execution_count": 23,
     "metadata": {},
     "output_type": "execute_result"
    }
   ],
   "source": [
    "merged_df['PrecipitationIn']"
   ]
  },
  {
   "cell_type": "code",
   "execution_count": 24,
   "metadata": {},
   "outputs": [
    {
     "data": {
      "text/plain": [
       "0"
      ]
     },
     "execution_count": 24,
     "metadata": {},
     "output_type": "execute_result"
    }
   ],
   "source": [
    "(merged_df['PrecipitationIn'] == 0.0).isna().sum()"
   ]
  },
  {
   "cell_type": "code",
   "execution_count": 25,
   "metadata": {},
   "outputs": [
    {
     "data": {
      "text/plain": [
       "0        10<br />\n",
       "1       304<br />\n",
       "2       156<br />\n",
       "3       284<br />\n",
       "4       313<br />\n",
       "          ...    \n",
       "8436     61<br />\n",
       "8437     61<br />\n",
       "8438     61<br />\n",
       "8439    294<br />\n",
       "8440    283<br />\n",
       "Name: WindDirDegrees.br..., Length: 8401, dtype: object"
      ]
     },
     "execution_count": 25,
     "metadata": {},
     "output_type": "execute_result"
    }
   ],
   "source": [
    "merged_df['WindDirDegrees.br...'] "
   ]
  },
  {
   "cell_type": "code",
   "execution_count": 26,
   "metadata": {},
   "outputs": [],
   "source": [
    "merged_df['WindDirDegrees.br...']  = merged_df['WindDirDegrees.br...'] .replace('<br />', '', regex=True)  # Remove \"<br />\"\n",
    "merged_df['WindDirDegrees.br...']  = merged_df['WindDirDegrees.br...'] .astype(float)  # Convert to float"
   ]
  },
  {
   "cell_type": "code",
   "execution_count": 27,
   "metadata": {},
   "outputs": [
    {
     "data": {
      "text/plain": [
       "0        10.0\n",
       "1       304.0\n",
       "2       156.0\n",
       "3       284.0\n",
       "4       313.0\n",
       "        ...  \n",
       "8436     61.0\n",
       "8437     61.0\n",
       "8438     61.0\n",
       "8439    294.0\n",
       "8440    283.0\n",
       "Name: WindDirDegrees.br..., Length: 8401, dtype: float64"
      ]
     },
     "execution_count": 27,
     "metadata": {},
     "output_type": "execute_result"
    }
   ],
   "source": [
    "merged_df['WindDirDegrees.br...']"
   ]
  },
  {
   "cell_type": "code",
   "execution_count": 28,
   "metadata": {},
   "outputs": [
    {
     "name": "stdout",
     "output_type": "stream",
     "text": [
      "<class 'pandas.core.frame.DataFrame'>\n",
      "Index: 8401 entries, 0 to 8440\n",
      "Data columns (total 42 columns):\n",
      " #   Column                                Non-Null Count  Dtype         \n",
      "---  ------                                --------------  -----         \n",
      " 0   Unnamed: 0_aqi                        8401 non-null   float64       \n",
      " 1   AQI                                   8401 non-null   float64       \n",
      " 2   Date                                  8401 non-null   datetime64[ns]\n",
      " 3   Unnamed: 0_ozone                      8401 non-null   float64       \n",
      " 4   Daily Max 8-hour Ozone Concentration  8401 non-null   float64       \n",
      " 5   DAILY_AQI_VALUE_merged                8401 non-null   float64       \n",
      " 6   Unnamed: 0_merged                     8401 non-null   float64       \n",
      " 7   Daily Mean PM2.5 Concentration        8401 non-null   float64       \n",
      " 8   DAILY_AQI_VALUE_pm                    8401 non-null   float64       \n",
      " 9   Unnamed: 0_sf                         8401 non-null   float64       \n",
      " 10  Max.TemperatureF                      8401 non-null   float64       \n",
      " 11  Mean.TemperatureF                     8401 non-null   float64       \n",
      " 12  Min.TemperatureF                      8401 non-null   float64       \n",
      " 13  Max.Dew.PointF                        8401 non-null   float64       \n",
      " 14  MeanDew.PointF                        8401 non-null   float64       \n",
      " 15  Min.DewpointF                         8401 non-null   float64       \n",
      " 16  Max.Humidity                          8401 non-null   float64       \n",
      " 17  Mean.Humidity                         8401 non-null   float64       \n",
      " 18  Min.Humidity                          8401 non-null   float64       \n",
      " 19  Max.Sea.Level.PressureIn              8401 non-null   float64       \n",
      " 20  Mean.Sea.Level.PressureIn             8401 non-null   float64       \n",
      " 21  Min.Sea.Level.PressureIn              8401 non-null   float64       \n",
      " 22  Max.VisibilityMiles                   8401 non-null   float64       \n",
      " 23  Mean.VisibilityMiles                  8401 non-null   float64       \n",
      " 24  Min.VisibilityMiles                   8401 non-null   float64       \n",
      " 25  Max.Wind.SpeedMPH                     8401 non-null   float64       \n",
      " 26  Mean.Wind.SpeedMPH                    8401 non-null   float64       \n",
      " 27  Max.Gust.SpeedMPH                     8401 non-null   float64       \n",
      " 28  PrecipitationIn                       8401 non-null   object        \n",
      " 29  CloudCover                            8401 non-null   float64       \n",
      " 30  WindDirDegrees.br...                  8401 non-null   float64       \n",
      " 31  season_Autumn                         8401 non-null   float64       \n",
      " 32  season_Spring                         8401 non-null   float64       \n",
      " 33  season_Summer                         8401 non-null   float64       \n",
      " 34  season_Winter                         8401 non-null   float64       \n",
      " 35  Events_Fog                            8401 non-null   float64       \n",
      " 36  Events_Fog-Rain                       8401 non-null   float64       \n",
      " 37  Events_Rain                           8401 non-null   float64       \n",
      " 38  Events_Rain-Hail-Thunderstorm         8401 non-null   float64       \n",
      " 39  Events_Rain-Thunderstorm              8401 non-null   float64       \n",
      " 40  Events_Thunderstorm                   8401 non-null   float64       \n",
      " 41  c                                     8156 non-null   float64       \n",
      "dtypes: datetime64[ns](1), float64(40), object(1)\n",
      "memory usage: 2.8+ MB\n"
     ]
    }
   ],
   "source": [
    "merged_df.info()"
   ]
  },
  {
   "cell_type": "code",
   "execution_count": 29,
   "metadata": {},
   "outputs": [],
   "source": [
    "merged_df = merged_df.drop(columns=['Unnamed: 0_aqi', 'Unnamed: 0_ozone', 'DAILY_AQI_VALUE_merged', 'Unnamed: 0_merged', 'DAILY_AQI_VALUE_pm', 'Unnamed: 0_sf', 'PrecipitationIn'])\n",
    "merged_df = merged_df.rename(columns={'c' : 'Precipitation'})\n"
   ]
  },
  {
   "cell_type": "code",
   "execution_count": 30,
   "metadata": {},
   "outputs": [],
   "source": [
    "most_frequent_prec = merged_df['Precipitation'].mode().iloc[0]\n",
    "merged_df['Precipitation'] = merged_df['Precipitation'].fillna(most_frequent_prec)"
   ]
  },
  {
   "cell_type": "code",
   "execution_count": 31,
   "metadata": {},
   "outputs": [
    {
     "name": "stdout",
     "output_type": "stream",
     "text": [
      "<class 'pandas.core.frame.DataFrame'>\n",
      "Index: 8401 entries, 0 to 8440\n",
      "Data columns (total 35 columns):\n",
      " #   Column                                Non-Null Count  Dtype         \n",
      "---  ------                                --------------  -----         \n",
      " 0   AQI                                   8401 non-null   float64       \n",
      " 1   Date                                  8401 non-null   datetime64[ns]\n",
      " 2   Daily Max 8-hour Ozone Concentration  8401 non-null   float64       \n",
      " 3   Daily Mean PM2.5 Concentration        8401 non-null   float64       \n",
      " 4   Max.TemperatureF                      8401 non-null   float64       \n",
      " 5   Mean.TemperatureF                     8401 non-null   float64       \n",
      " 6   Min.TemperatureF                      8401 non-null   float64       \n",
      " 7   Max.Dew.PointF                        8401 non-null   float64       \n",
      " 8   MeanDew.PointF                        8401 non-null   float64       \n",
      " 9   Min.DewpointF                         8401 non-null   float64       \n",
      " 10  Max.Humidity                          8401 non-null   float64       \n",
      " 11  Mean.Humidity                         8401 non-null   float64       \n",
      " 12  Min.Humidity                          8401 non-null   float64       \n",
      " 13  Max.Sea.Level.PressureIn              8401 non-null   float64       \n",
      " 14  Mean.Sea.Level.PressureIn             8401 non-null   float64       \n",
      " 15  Min.Sea.Level.PressureIn              8401 non-null   float64       \n",
      " 16  Max.VisibilityMiles                   8401 non-null   float64       \n",
      " 17  Mean.VisibilityMiles                  8401 non-null   float64       \n",
      " 18  Min.VisibilityMiles                   8401 non-null   float64       \n",
      " 19  Max.Wind.SpeedMPH                     8401 non-null   float64       \n",
      " 20  Mean.Wind.SpeedMPH                    8401 non-null   float64       \n",
      " 21  Max.Gust.SpeedMPH                     8401 non-null   float64       \n",
      " 22  CloudCover                            8401 non-null   float64       \n",
      " 23  WindDirDegrees.br...                  8401 non-null   float64       \n",
      " 24  season_Autumn                         8401 non-null   float64       \n",
      " 25  season_Spring                         8401 non-null   float64       \n",
      " 26  season_Summer                         8401 non-null   float64       \n",
      " 27  season_Winter                         8401 non-null   float64       \n",
      " 28  Events_Fog                            8401 non-null   float64       \n",
      " 29  Events_Fog-Rain                       8401 non-null   float64       \n",
      " 30  Events_Rain                           8401 non-null   float64       \n",
      " 31  Events_Rain-Hail-Thunderstorm         8401 non-null   float64       \n",
      " 32  Events_Rain-Thunderstorm              8401 non-null   float64       \n",
      " 33  Events_Thunderstorm                   8401 non-null   float64       \n",
      " 34  Precipitation                         8401 non-null   float64       \n",
      "dtypes: datetime64[ns](1), float64(34)\n",
      "memory usage: 2.3 MB\n"
     ]
    }
   ],
   "source": [
    "merged_df.info()"
   ]
  },
  {
   "cell_type": "code",
   "execution_count": 32,
   "metadata": {},
   "outputs": [],
   "source": [
    "merged_df['Date'] = merged_df['Date'].astype(str)"
   ]
  },
  {
   "cell_type": "code",
   "execution_count": 33,
   "metadata": {},
   "outputs": [],
   "source": [
    "import numpy as np\n",
    "\n",
    "# Gets the day, month, and year from the 'Date' column\n",
    "def time_split(df):\n",
    "    df['Year'] = df['Date'].str.slice(0, 4).astype(int)\n",
    "    df['Month'] = df['Date'].str.slice(5, 7).astype(int)\n",
    "    df['Day'] = df['Date'].str.slice(8, 10).astype(int)\n",
    "\n",
    "time_split(merged_df)"
   ]
  },
  {
   "cell_type": "code",
   "execution_count": 34,
   "metadata": {},
   "outputs": [],
   "source": [
    "# Convert month and day into sin and cos\n",
    "def feature_sin_cos(df):\n",
    "    df['Month_sin'] = np.sin(df.Month * 2 * np.pi / 12)\n",
    "    df['Month_cos'] = np.cos(df.Month * 2 * np.pi / 12)\n",
    "\n",
    "    df['Day_sin'] = np.sin(df.Day * 2 * np.pi / 31)\n",
    "    df['Day_cos'] = np.cos(df.Day * 2 * np.pi / 31)\n",
    "\n",
    "feature_sin_cos(merged_df)"
   ]
  },
  {
   "cell_type": "code",
   "execution_count": 35,
   "metadata": {},
   "outputs": [],
   "source": [
    "# Drop 'Day', 'Month', columns\n",
    "merged_df = merged_df.drop(['Day'], axis=1)\n",
    "merged_df = merged_df.drop(['Month'], axis=1)"
   ]
  },
  {
   "cell_type": "code",
   "execution_count": 36,
   "metadata": {},
   "outputs": [],
   "source": [
    "merged_df['Year'] = merged_df['Year'].astype(float)"
   ]
  },
  {
   "cell_type": "code",
   "execution_count": 37,
   "metadata": {},
   "outputs": [],
   "source": [
    "merged_df = merged_df.drop(['Date'], axis=1)"
   ]
  },
  {
   "cell_type": "code",
   "execution_count": 38,
   "metadata": {},
   "outputs": [
    {
     "name": "stdout",
     "output_type": "stream",
     "text": [
      "<class 'pandas.core.frame.DataFrame'>\n",
      "Index: 8401 entries, 0 to 8440\n",
      "Data columns (total 39 columns):\n",
      " #   Column                                Non-Null Count  Dtype  \n",
      "---  ------                                --------------  -----  \n",
      " 0   AQI                                   8401 non-null   float64\n",
      " 1   Daily Max 8-hour Ozone Concentration  8401 non-null   float64\n",
      " 2   Daily Mean PM2.5 Concentration        8401 non-null   float64\n",
      " 3   Max.TemperatureF                      8401 non-null   float64\n",
      " 4   Mean.TemperatureF                     8401 non-null   float64\n",
      " 5   Min.TemperatureF                      8401 non-null   float64\n",
      " 6   Max.Dew.PointF                        8401 non-null   float64\n",
      " 7   MeanDew.PointF                        8401 non-null   float64\n",
      " 8   Min.DewpointF                         8401 non-null   float64\n",
      " 9   Max.Humidity                          8401 non-null   float64\n",
      " 10  Mean.Humidity                         8401 non-null   float64\n",
      " 11  Min.Humidity                          8401 non-null   float64\n",
      " 12  Max.Sea.Level.PressureIn              8401 non-null   float64\n",
      " 13  Mean.Sea.Level.PressureIn             8401 non-null   float64\n",
      " 14  Min.Sea.Level.PressureIn              8401 non-null   float64\n",
      " 15  Max.VisibilityMiles                   8401 non-null   float64\n",
      " 16  Mean.VisibilityMiles                  8401 non-null   float64\n",
      " 17  Min.VisibilityMiles                   8401 non-null   float64\n",
      " 18  Max.Wind.SpeedMPH                     8401 non-null   float64\n",
      " 19  Mean.Wind.SpeedMPH                    8401 non-null   float64\n",
      " 20  Max.Gust.SpeedMPH                     8401 non-null   float64\n",
      " 21  CloudCover                            8401 non-null   float64\n",
      " 22  WindDirDegrees.br...                  8401 non-null   float64\n",
      " 23  season_Autumn                         8401 non-null   float64\n",
      " 24  season_Spring                         8401 non-null   float64\n",
      " 25  season_Summer                         8401 non-null   float64\n",
      " 26  season_Winter                         8401 non-null   float64\n",
      " 27  Events_Fog                            8401 non-null   float64\n",
      " 28  Events_Fog-Rain                       8401 non-null   float64\n",
      " 29  Events_Rain                           8401 non-null   float64\n",
      " 30  Events_Rain-Hail-Thunderstorm         8401 non-null   float64\n",
      " 31  Events_Rain-Thunderstorm              8401 non-null   float64\n",
      " 32  Events_Thunderstorm                   8401 non-null   float64\n",
      " 33  Precipitation                         8401 non-null   float64\n",
      " 34  Year                                  8401 non-null   float64\n",
      " 35  Month_sin                             8401 non-null   float64\n",
      " 36  Month_cos                             8401 non-null   float64\n",
      " 37  Day_sin                               8401 non-null   float64\n",
      " 38  Day_cos                               8401 non-null   float64\n",
      "dtypes: float64(39)\n",
      "memory usage: 2.6 MB\n"
     ]
    }
   ],
   "source": [
    "merged_df.info()"
   ]
  },
  {
   "cell_type": "markdown",
   "metadata": {},
   "source": [
    "# Model"
   ]
  },
  {
   "cell_type": "code",
   "execution_count": 39,
   "metadata": {},
   "outputs": [
    {
     "data": {
      "text/plain": [
       "tensor([[ 1.2000e-02,  2.7000e+01,  5.9000e+01,  ...,  8.6603e-01,\n",
       "          2.0130e-01,  9.7953e-01],\n",
       "        [ 1.0000e-02,  2.0900e+01,  5.7000e+01,  ...,  8.6603e-01,\n",
       "          3.9436e-01,  9.1896e-01],\n",
       "        [ 2.6000e-02,  1.0100e+01,  6.1000e+01,  ...,  8.6603e-01,\n",
       "          5.7127e-01,  8.2076e-01],\n",
       "        ...,\n",
       "        [ 2.6000e-02,  2.6000e+00,  5.6000e+01,  ...,  1.0000e+00,\n",
       "         -2.4493e-16,  1.0000e+00],\n",
       "        [ 2.6000e-02,  2.6000e+00,  5.7000e+01,  ...,  5.0000e-01,\n",
       "         -9.3775e-01,  3.4731e-01],\n",
       "        [ 2.6000e-02,  2.6000e+00,  5.4000e+01,  ...,  5.0000e-01,\n",
       "         -8.4864e-01,  5.2896e-01]], dtype=torch.float64)"
      ]
     },
     "execution_count": 39,
     "metadata": {},
     "output_type": "execute_result"
    }
   ],
   "source": [
    "import torch\n",
    "\n",
    "torch_x = torch.tensor(merged_df.drop(columns=['AQI']).values)\n",
    "torch_x"
   ]
  },
  {
   "cell_type": "code",
   "execution_count": 40,
   "metadata": {},
   "outputs": [
    {
     "data": {
      "text/plain": [
       "tensor([87., 70., 52.,  ..., 28., 28., 28.], dtype=torch.float64)"
      ]
     },
     "execution_count": 40,
     "metadata": {},
     "output_type": "execute_result"
    }
   ],
   "source": [
    "torch_y = torch.tensor(merged_df['AQI'].values)\n",
    "torch_y"
   ]
  },
  {
   "cell_type": "code",
   "execution_count": 41,
   "metadata": {},
   "outputs": [],
   "source": [
    "train_x, test_x, train_y, test_y = train_test_split(torch_x, torch_y, test_size=0.15)\n",
    "train_x, valid_x, train_y, valid_y = train_test_split(train_x, train_y, test_size=0.17)"
   ]
  },
  {
   "cell_type": "code",
   "execution_count": 42,
   "metadata": {},
   "outputs": [
    {
     "data": {
      "text/plain": [
       "torch.Size([5926, 38])"
      ]
     },
     "execution_count": 42,
     "metadata": {},
     "output_type": "execute_result"
    }
   ],
   "source": [
    "train_x.shape"
   ]
  },
  {
   "cell_type": "code",
   "execution_count": 43,
   "metadata": {},
   "outputs": [
    {
     "data": {
      "text/plain": [
       "torch.Size([1214, 38])"
      ]
     },
     "execution_count": 43,
     "metadata": {},
     "output_type": "execute_result"
    }
   ],
   "source": [
    "valid_x.shape"
   ]
  },
  {
   "cell_type": "code",
   "execution_count": 44,
   "metadata": {},
   "outputs": [
    {
     "data": {
      "text/plain": [
       "torch.Size([1261, 38])"
      ]
     },
     "execution_count": 44,
     "metadata": {},
     "output_type": "execute_result"
    }
   ],
   "source": [
    "test_x.shape"
   ]
  },
  {
   "cell_type": "code",
   "execution_count": 45,
   "metadata": {},
   "outputs": [],
   "source": [
    "from torch.utils.data import Dataset\n",
    "\n",
    "class WeatherDataset(Dataset):\n",
    "    def __init__(self, features, labels):\n",
    "        self.features = features\n",
    "        self.labels = labels\n",
    "\n",
    "    def __getitem__(self, index):\n",
    "        # Return a single observation and its label\n",
    "        return self.features[index], self.labels[index]\n",
    "\n",
    "    def __len__(self):\n",
    "        # Return the total number of samples\n",
    "        return len(self.labels)"
   ]
  },
  {
   "cell_type": "code",
   "execution_count": 46,
   "metadata": {},
   "outputs": [],
   "source": [
    "from torch.utils.data import DataLoader\n",
    "\n",
    "# Split the data into training and validation sets if not already done\n",
    "train_dataset = WeatherDataset(train_x, train_y)\n",
    "valid_dataset = WeatherDataset(valid_x, valid_y)\n",
    "test_dataset = WeatherDataset(test_x, test_y)\n",
    "\n",
    "# Create DataLoader instances\n",
    "train_loader = DataLoader(train_dataset, batch_size=2)\n",
    "valid_loader = DataLoader(valid_dataset, batch_size=2)\n",
    "test_loader = DataLoader(test_dataset, batch_size=2)"
   ]
  },
  {
   "cell_type": "markdown",
   "metadata": {},
   "source": [
    "## LSTM"
   ]
  },
  {
   "cell_type": "code",
   "execution_count": 47,
   "metadata": {},
   "outputs": [],
   "source": [
    "import torch.nn.functional as F\n",
    "import torch.nn as nn\n",
    "from torch.nn import Module, LSTM, Dropout, Linear, Softmax\n",
    "\n",
    "# Define model parameters\n",
    "input_size = 38  # Number of features\n",
    "hidden_size = 50  # Number of features in hidden state\n",
    "num_layers = 2  # Number of stacked LSTM layers\n",
    "output_size = 1  # Number of output classes\n",
    "batch_size = 2\n",
    "\n",
    "class LSTMWeatherPredictor(Module):\n",
    "    def __init__(self, input_size, hidden_size, num_layers, output_size):\n",
    "        super(LSTMWeatherPredictor, self).__init__()\n",
    "\n",
    "        self.lstm = LSTM(input_size, hidden_size, num_layers, batch_first=True)\n",
    "        self.dropout = Dropout(0.5)  # Should be a hyperparameter\n",
    "        self.fc = Linear(hidden_size, output_size)\n",
    "\n",
    "    def forward(self, x):\n",
    "        batch_size = x.size(0)\n",
    "        hidden = (torch.zeros(num_layers, batch_size, hidden_size).to(x.device),\n",
    "                  torch.zeros(num_layers, batch_size, hidden_size).to(x.device))\n",
    "\n",
    "        x, hidden = self.lstm(x, hidden)\n",
    "        x = x[:, -1, :]  # Select the last time step\n",
    "\n",
    "        x = self.dropout(x)\n",
    "        x = self.fc(x)\n",
    "\n",
    "        return x"
   ]
  },
  {
   "cell_type": "code",
   "execution_count": 48,
   "metadata": {},
   "outputs": [],
   "source": [
    "lstm = LSTMWeatherPredictor(input_size, hidden_size, num_layers, output_size)"
   ]
  },
  {
   "cell_type": "code",
   "execution_count": 49,
   "metadata": {},
   "outputs": [
    {
     "name": "stdout",
     "output_type": "stream",
     "text": [
      "LSTMWeatherPredictor(\n",
      "  (lstm): LSTM(38, 50, num_layers=2, batch_first=True)\n",
      "  (dropout): Dropout(p=0.5, inplace=False)\n",
      "  (fc): Linear(in_features=50, out_features=1, bias=True)\n",
      ")\n"
     ]
    }
   ],
   "source": [
    "print(lstm)"
   ]
  },
  {
   "cell_type": "code",
   "execution_count": 50,
   "metadata": {},
   "outputs": [],
   "source": [
    "from torch.optim import Adam\n",
    "from torch.nn import MSELoss\n",
    "\n",
    "learning_rate = 0.0001\n",
    "criterion = nn.MSELoss()  # Use Binary Cross Entropy Loss\n",
    "optimizer = Adam(lstm.parameters(), lr=learning_rate)"
   ]
  },
  {
   "cell_type": "markdown",
   "metadata": {},
   "source": [
    "## Training Loop and Results"
   ]
  },
  {
   "cell_type": "code",
   "execution_count": 54,
   "metadata": {
    "scrolled": true
   },
   "outputs": [
    {
     "name": "stdout",
     "output_type": "stream",
     "text": [
      "Epoch 0 train RMSE: 19.572829972140873\n",
      "Epoch 0 valid RMSE: 19.33004269764093\n",
      "Epoch 1 train RMSE: 19.546885414987482\n",
      "Epoch 1 valid RMSE: 19.28755476024938\n",
      "Epoch 2 train RMSE: 19.45036271759538\n",
      "Epoch 2 valid RMSE: 19.272144954990804\n",
      "Epoch 3 train RMSE: 19.562074084285662\n",
      "Epoch 3 valid RMSE: 19.26627900679751\n",
      "Epoch 4 train RMSE: 19.40510029627808\n",
      "Epoch 4 valid RMSE: 19.25436198497264\n",
      "Epoch 5 train RMSE: 19.54636235568338\n",
      "Epoch 5 valid RMSE: 19.256135690938304\n",
      "Epoch 6 train RMSE: 19.456096350283428\n",
      "Epoch 6 valid RMSE: 19.255847951278362\n",
      "Epoch 7 train RMSE: 19.309267157442402\n",
      "Epoch 7 valid RMSE: 19.25691698800875\n",
      "Epoch 8 train RMSE: 19.427662553166993\n",
      "Epoch 8 valid RMSE: 19.260710500268686\n",
      "Epoch 9 train RMSE: 19.39392693336053\n",
      "Epoch 9 valid RMSE: 19.255938651017825\n"
     ]
    }
   ],
   "source": [
    "from sklearn.metrics import mean_squared_error\n",
    "import math\n",
    "\n",
    "epochs = 10\n",
    "\n",
    "epoch_num = []\n",
    "loss_train = []\n",
    "loss_valid = []\n",
    "\n",
    "for epoch in range(epochs):\n",
    "    epoch_num.append(epoch)\n",
    "    train_loss = 0.\n",
    "    valid_loss = 0.\n",
    "\n",
    "    # Training\n",
    "    lstm.train()\n",
    "    train_predictions = []\n",
    "    for features, target in train_loader:\n",
    "        optimizer.zero_grad()\n",
    "        features = features.view(features.size(0), -1, input_size).float()\n",
    "        output = lstm(features)\n",
    "        loss = criterion(output.squeeze(), target.float())\n",
    "        loss.backward()\n",
    "        optimizer.step()\n",
    "        train_predictions.extend(output.cpu().detach().numpy())\n",
    "\n",
    "    train_rmse = math.sqrt(mean_squared_error(train_y.numpy(), train_predictions))\n",
    "    print('Epoch', epoch, 'train RMSE:', train_rmse)\n",
    "\n",
    "    # Validation\n",
    "    lstm.eval()\n",
    "    valid_predictions = []\n",
    "    for features, target in valid_loader:\n",
    "        features = features.view(features.size(0), -1, input_size).float()\n",
    "        output = lstm(features)\n",
    "        valid_predictions.extend(output.cpu().detach().numpy())\n",
    "\n",
    "    valid_rmse = math.sqrt(mean_squared_error(valid_y.numpy(), valid_predictions))\n",
    "    print('Epoch', epoch, 'valid RMSE:', valid_rmse)"
   ]
  },
  {
   "cell_type": "code",
   "execution_count": 69,
   "metadata": {},
   "outputs": [
    {
     "data": {
      "image/png": "[encoded data removed]",
      "text/plain": [
       "<Figure size 640x480 with 1 Axes>"
      ]
     },
     "metadata": {},
     "output_type": "display_data"
    }
   ],
   "source": [
    "import matplotlib.pyplot as plt\n",
    "\n",
    "# Assuming valid_y and valid_predictions are NumPy arrays\n",
    "fig = plt.figure()\n",
    "fig.figsize=(20,100)\n",
    "plt.scatter(valid_y, valid_predictions)\n",
    "plt.xlabel('True AQI')\n",
    "plt.ylabel('Predicted AQI')\n",
    "plt.title('True vs Predicted AQI')\n",
    "plt.show()"
   ]
  },
  {
   "cell_type": "code",
   "execution_count": null,
   "metadata": {},
   "outputs": [],
   "source": []
  }
 ],
 "metadata": {
  "kernelspec": {
   "display_name": "Python 3 (ipykernel)",
   "language": "python",
   "name": "python3"
  },
  "language_info": {
   "codemirror_mode": {
    "name": "ipython",
    "version": 3
   },
   "file_extension": ".py",
   "mimetype": "text/x-python",
   "name": "python",
   "nbconvert_exporter": "python",
   "pygments_lexer": "ipython3",
   "version": "3.8.10"
  }
 },
 "nbformat": 4,
 "nbformat_minor": 4
}
